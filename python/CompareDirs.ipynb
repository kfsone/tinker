{
 "cells": [
  {
   "cell_type": "code",
   "execution_count": 1,
   "metadata": {},
   "outputs": [],
   "source": [
    "%load_ext autoreload\n",
    "%autoreload 2\n",
    "\n",
    "%matplotlib inline\n",
    "import matplotlib.pyplot as plt\n",
    "\n",
    "import mmap\n",
    "from mmap import mmap as fileview, ACCESS_READ\n",
    "\n",
    "from collections import defaultdict\n",
    "import hashlib\n",
    "\n",
    "import os\n",
    "from os.path import basename"
   ]
  },
  {
   "cell_type": "code",
   "execution_count": 2,
   "metadata": {},
   "outputs": [],
   "source": [
    "import comparedirs\n",
    "comparison = comparedirs.Comparison()"
   ]
  },
  {
   "cell_type": "code",
   "execution_count": 3,
   "metadata": {},
   "outputs": [
    {
     "name": "stdout",
     "output_type": "stream",
     "text": [
      "[WinError 5] Access is denied: 'G:\\\\System Volume Information'\n"
     ]
    }
   ],
   "source": [
    "comparison.scan(paths=(\"G:\\\\\",), excludes=(\".svn\", \".git\", \"G:\\\\SEM\", \"G:\\\\$RECYCLE.BIN\", \".idea\", \".venv\"))"
   ]
  },
  {
   "cell_type": "code",
   "execution_count": 4,
   "metadata": {},
   "outputs": [
    {
     "name": "stdout",
     "output_type": "stream",
     "text": [
      "Files: 65673 Data: 266908891008\n",
      "Min size: 1 Max size: 34159919104\n",
      "Min files: 2 Max files: 2258\n"
     ]
    }
   ],
   "source": [
    "file_counts = dict((sz, len(f)) for sz, f in comparison.sizes.items())\n",
    "total_files = sum(file_counts.values())\n",
    "total_data  = sum(sz * count for sz, count in file_counts.items())\n",
    "\n",
    "print(\"Files:\", total_files, \"Data:\", total_data)\n",
    "min_size = min(comparison.sizes.keys())\n",
    "max_size = max(comparison.sizes.keys())\n",
    "\n",
    "if total_files > 0:\n",
    "    print(\"Min size:\", min_size, \"Max size:\", max_size)\n",
    "    print(\"Min files:\", min(file_counts.values()), \"Max files:\", max(file_counts.values()))\n",
    "\n",
    "sizes = {}\n",
    "for size in sorted(comparison.sizes.keys()):\n",
    "    sizes[size] = len(sizes)"
   ]
  },
  {
   "cell_type": "code",
   "execution_count": 5,
   "metadata": {
    "scrolled": false
   },
   "outputs": [
    {
     "data": {
      "application/vnd.jupyter.widget-view+json": {
       "model_id": "d686cc1692f1427bab13e4375518c023",
       "version_major": 2,
       "version_minor": 0
      },
      "text/plain": [
       "HBox(children=(FloatProgress(value=0.0, bar_style='info', description='Data', layout=Layout(width='65%'), max=…"
      ]
     },
     "metadata": {},
     "output_type": "display_data"
    },
    {
     "data": {
      "application/vnd.jupyter.widget-view+json": {
       "model_id": "718ccc6e257e4a27bbd0dc4c4ec6e82e",
       "version_major": 2,
       "version_minor": 0
      },
      "text/plain": [
       "HBox(children=(FloatProgress(value=0.0, bar_style='info', description='Files', layout=Layout(width='65%'), max…"
      ]
     },
     "metadata": {},
     "output_type": "display_data"
    },
    {
     "data": {
      "application/vnd.jupyter.widget-view+json": {
       "model_id": "963f8baae29b446b907703d758be8f72",
       "version_major": 2,
       "version_minor": 0
      },
      "text/plain": [
       "HBox(children=(IntSlider(value=0, description='Size', layout=Layout(width='65%'), max=10444, readout=False), L…"
      ]
     },
     "metadata": {},
     "output_type": "display_data"
    },
    {
     "data": {
      "application/vnd.jupyter.widget-view+json": {
       "model_id": "490e5c1e8a0f4dd68a03f6391fb8f0dc",
       "version_major": 2,
       "version_minor": 0
      },
      "text/plain": [
       "HBox(children=(FloatSlider(value=1.0, description='Cache', layout=Layout(width='65%'), max=1.0, readout=False)…"
      ]
     },
     "metadata": {},
     "output_type": "display_data"
    }
   ],
   "source": [
    "import ipywidgets\n",
    "from ipywidgets import IntProgress, FloatProgress, HBox, Label, Layout, IntSlider, FloatSlider\n",
    "from IPython.display import display\n",
    "from typing import Union\n",
    "\n",
    "class Presenter(object):\n",
    "    left_layout  = Layout(width='65%')\n",
    "    right_layout = Layout(width='35%')\n",
    "    box_layout   = Layout(width='100%')\n",
    "\n",
    "    \n",
    "    def __init__(self, title: str, max: Union[int, float], min: Union[int, float] = 0, **klsargs) -> None:\n",
    "        self.data  = self.CLASS(min=min, max=max, layout=self.left_layout, description=title, **klsargs)\n",
    "        self.label = Label(value='Starting', layout=self.right_layout)\n",
    "        self.hbox  = HBox([self.data, self.label], layout=self.box_layout)\n",
    "\n",
    "        \n",
    "    def display(self) -> None:\n",
    "        display(self.hbox)\n",
    "\n",
    "        \n",
    "    def increment(self, inc: Union[int, float], suffix: str = \"\") -> None:\n",
    "        data = self.data\n",
    "        data.value += inc\n",
    "        self.label.value = \"{:6.2f}% :: {:,}/{:,} {}\".format(\n",
    "            (data.value * 100) / data.max,\n",
    "            int(data.value / self.units),\n",
    "            self.umax,\n",
    "            suffix,\n",
    "        )\n",
    "\n",
    "        \n",
    "class ProgressBar(Presenter):\n",
    "    CLASS = IntProgress\n",
    "    def __init__(self, title: str, max: Union[int, float], units: int = 1, **kwargs) -> None:\n",
    "        super().__init__(title, max, bar_style='info')\n",
    "        self.units = units or 1\n",
    "        self.umax  = int(self.data.max / self.units)\n",
    "\n",
    "        \n",
    "class ProgressBarF(ProgressBar):\n",
    "    CLASS = FloatProgress\n",
    "\n",
    "    \n",
    "class Slider(Presenter):\n",
    "    CLASS = IntSlider\n",
    "    def __init__(self, title: str, max: Union[int, float], min: Union[int, float] = 0, default: Union[int, float] = min, **kwargs) -> None:\n",
    "        super().__init__(title, max, min=min, value=default, **kwargs)\n",
    "        self.data.value = default\n",
    "\n",
    "        \n",
    "class SliderF(Slider):\n",
    "    CLASS = FloatSlider\n",
    "    \n",
    "\n",
    "# Data bar\n",
    "db = ProgressBarF(\"Data\", total_data, 1024)\n",
    "fb = ProgressBarF(\"Files\", total_files)\n",
    "sz = Slider(\"Size\", len(sizes), min=0, default=0, readout=False)\n",
    "ch = SliderF(\"Cache\", 1.0, default=1.0, readout=False)\n",
    "\n",
    "db.display()\n",
    "fb.display()\n",
    "sz.display()\n",
    "ch.display()\n",
    "\n",
    "loaded, nfiles = 0, 0\n",
    "update_size = 64 * 1024 * 1024\n",
    "\n",
    "def inc_pb(bar, inc, div, sfx=\"\"):\n",
    "    bar.data.value += inc\n",
    "    bar.label.value = \"{:6.2f}% -> {:,}/{:,} {}\".format((bar.data.value * 100) / bar.data.max, int(bar.data.value / div), int(bar.data.max / div), sfx)\n",
    "\n",
    "def update_bars(rem, size, force=False):\n",
    "    global loaded, nfiles\n",
    "    if force or nfiles > 50 or loaded >= update_size:\n",
    "        sfx = \"KB ({:,}/{:,})\".format(int(rem / 1024), int(size / 1024))\n",
    "        db.increment(loaded, sfx)\n",
    "        fb.increment(nfiles)\n",
    "        loaded, nfiles = 0, 0\n",
    "    if size:\n",
    "        size_num = sizes[size]\n",
    "        if size_num != sz.data.value:\n",
    "            sz.data.value = sizes[size]\n",
    "            sz.label.value = \"{:,} byte{:s}\" . format(size, \"\" if size == 1 else \"s\")\n",
    "    \n",
    "def update_data(path, size, chunk, rem):\n",
    "    global loaded\n",
    "    loaded += chunk\n",
    "    update_bars(rem, size)\n",
    "\n",
    "def update_cache():\n",
    "    ratio = comparison.cache_hit / (comparison.cache_hit + comparison.cache_miss)\n",
    "    ch.data.value = ratio\n",
    "    ch.label.value = \"{:,} hits : {:,} miss\".format(comparison.cache_hit, comparison.cache_miss)\n",
    "    \n",
    "def update_files(file_info):\n",
    "    global nfiles\n",
    "    nfiles += 1\n",
    "    update_bars(0, file_info.size)\n",
    "    update_cache()\n",
    "\n",
    "comparison.hash(readcallback=update_data, filecallback=update_files)\n",
    "update_bars(0, 0, True)\n",
    "update_cache()"
   ]
  },
  {
   "cell_type": "code",
   "execution_count": null,
   "metadata": {},
   "outputs": [],
   "source": []
  }
 ],
 "metadata": {
  "kernelspec": {
   "display_name": "Python 3",
   "language": "python",
   "name": "python3"
  },
  "language_info": {
   "codemirror_mode": {
    "name": "ipython",
    "version": 3
   },
   "file_extension": ".py",
   "mimetype": "text/x-python",
   "name": "python",
   "nbconvert_exporter": "python",
   "pygments_lexer": "ipython3",
   "version": "3.7.1"
  }
 },
 "nbformat": 4,
 "nbformat_minor": 2
}
