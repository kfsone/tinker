{
 "cells": [
  {
   "cell_type": "code",
   "execution_count": 1,
   "metadata": {},
   "outputs": [],
   "source": [
    "%load_ext autoreload\n",
    "%autoreload 2\n",
    "\n",
    "%matplotlib inline\n",
    "import matplotlib.pyplot as plt\n",
    "\n",
    "import mmap\n",
    "from mmap import mmap as fileview, ACCESS_READ\n",
    "\n",
    "from collections import defaultdict\n",
    "import hashlib\n",
    "\n",
    "from lib.mypywidgets import ProgressBar, ProgressBarF, Slider, SliderF"
   ]
  },
  {
   "cell_type": "code",
   "execution_count": 2,
   "metadata": {},
   "outputs": [],
   "source": [
    "import comparedirs\n",
    "comparison = comparedirs.Comparison()"
   ]
  },
  {
   "cell_type": "code",
   "execution_count": 3,
   "metadata": {},
   "outputs": [
    {
     "name": "stdout",
     "output_type": "stream",
     "text": [
      "[WinError 5] Access is denied: 'G:\\\\System Volume Information'\n"
     ]
    }
   ],
   "source": [
    "comparison.scan(paths=(\"G:\\\\\",), excludes=(\".svn\", \".git\", \"G:\\\\SEM\", \"G:\\\\$RECYCLE.BIN\", \".idea\", \".venv\", 'Allo Allo'))"
   ]
  },
  {
   "cell_type": "code",
   "execution_count": 4,
   "metadata": {},
   "outputs": [
    {
     "name": "stdout",
     "output_type": "stream",
     "text": [
      "Files: 65558 Data: 259220586403\n",
      "Min size: 1 Max size: 34159919104\n",
      "Min files: 2 Max files: 2258\n"
     ]
    }
   ],
   "source": [
    "file_counts = dict((sz, len(f)) for sz, f in comparison.sizes.items())\n",
    "total_files = sum(file_counts.values())\n",
    "total_data  = sum(sz * count for sz, count in file_counts.items())\n",
    "\n",
    "print(\"Files:\", total_files, \"Data:\", total_data)\n",
    "min_size = min(comparison.sizes.keys())\n",
    "max_size = max(comparison.sizes.keys())\n",
    "\n",
    "if total_files > 0:\n",
    "    print(\"Min size:\", min_size, \"Max size:\", max_size)\n",
    "    print(\"Min files:\", min(file_counts.values()), \"Max files:\", max(file_counts.values()))\n",
    "\n",
    "sizes = {}\n",
    "for size in sorted(comparison.sizes.keys()):\n",
    "    sizes[size] = len(sizes)"
   ]
  },
  {
   "cell_type": "code",
   "execution_count": null,
   "metadata": {
    "scrolled": false
   },
   "outputs": [
    {
     "data": {
      "application/vnd.jupyter.widget-view+json": {
       "model_id": "7532e7520001418e8782bafc89db968b",
       "version_major": 2,
       "version_minor": 0
      },
      "text/plain": [
       "HBox(children=(FloatProgress(value=0.0, bar_style='info', description='Data', layout=Layout(width='65%'), max=…"
      ]
     },
     "metadata": {},
     "output_type": "display_data"
    },
    {
     "data": {
      "application/vnd.jupyter.widget-view+json": {
       "model_id": "17057b43e47b40ceb851f9e5d194caea",
       "version_major": 2,
       "version_minor": 0
      },
      "text/plain": [
       "HBox(children=(FloatProgress(value=0.0, bar_style='info', description='Files', layout=Layout(width='65%'), max…"
      ]
     },
     "metadata": {},
     "output_type": "display_data"
    },
    {
     "data": {
      "application/vnd.jupyter.widget-view+json": {
       "model_id": "bb4d0cfd553f4dd995ac7fd0203a9e88",
       "version_major": 2,
       "version_minor": 0
      },
      "text/plain": [
       "HBox(children=(IntSlider(value=0, description='Size', layout=Layout(width='65%'), max=10425, readout=False), L…"
      ]
     },
     "metadata": {},
     "output_type": "display_data"
    },
    {
     "data": {
      "application/vnd.jupyter.widget-view+json": {
       "model_id": "0575054ae39045f69479d50dc3cfa540",
       "version_major": 2,
       "version_minor": 0
      },
      "text/plain": [
       "HBox(children=(FloatSlider(value=1.0, description='Cache', layout=Layout(width='65%'), max=1.0, readout=False)…"
      ]
     },
     "metadata": {},
     "output_type": "display_data"
    }
   ],
   "source": [
    "import time\n",
    "\n",
    "# Data bar\n",
    "db = ProgressBarF(\"Data\", total_data, 1024)\n",
    "fb = ProgressBarF(\"Files\", total_files)\n",
    "sz = Slider(\"Size\", len(sizes), min=0, default=0, readout=False)\n",
    "ch = SliderF(\"Cache\", 1.0, default=1.0, readout=False)\n",
    "\n",
    "db.display()\n",
    "fb.display()\n",
    "sz.display()\n",
    "ch.display()\n",
    "\n",
    "loaded, nfiles = 0, 0\n",
    "last_tick = 0.0\n",
    "size_step = max(64 * 1024, int(total_data * 0.05))\n",
    "file_step = max(1, int(total_files * 0.05))\n",
    "\n",
    "def update_bars(size, force=False):\n",
    "    global loaded, nfiles\n",
    "    size_num = sizes[size]\n",
    "    if force or nfiles >= file_step or loaded >= size_step or size_num != sz.data.value:\n",
    "        db.increment(loaded, \"KB\")\n",
    "        fb.increment(nfiles)\n",
    "        loaded, nfiles = 0, 0\n",
    "        sz.data.value = size_num\n",
    "        sz.label.value = \"{:,} byte{:s}\" . format(size, \"\" if size == 1 else \"s\")\n",
    "    \n",
    "    ratio = int(comparison.cache_hit / (comparison.cache_hit + comparison.cache_miss) * 10000) / 10000\n",
    "    if ch.data.value != ratio:\n",
    "        ch.data.value = ratio\n",
    "        ch.label.value = \"{:.2f}%\".format(ratio * 100)\n",
    "    \n",
    "def update_files(file_info, amount_read):\n",
    "    global last_tick, nfiles, loaded\n",
    "    if amount_read >= file_info.size:\n",
    "        loaded += amount_read\n",
    "        nfiles += 1\n",
    "    now = time.time()\n",
    "    if last_tick <= now - 0.3:\n",
    "        update_bars(file_info.size, last_tick <= now - 1.0)\n",
    "        last_tick = now\n",
    "\n",
    "comparison.match(filecallback=update_files, reverse=True)\n",
    "update_bars(0, 0, True)\n"
   ]
  },
  {
   "cell_type": "code",
   "execution_count": null,
   "metadata": {},
   "outputs": [],
   "source": [
    "comparison.matches"
   ]
  },
  {
   "cell_type": "code",
   "execution_count": null,
   "metadata": {},
   "outputs": [],
   "source": [
    "for path, dirinfo in comparison.folders.items():\n",
    "    if not dirinfo.name_matches:\n",
    "        continue\n",
    "    print(\"%9d/%9d %s\" % (len(dirinfo.name_matches), len(dirinfo.files), path))\n",
    "    "
   ]
  }
 ],
 "metadata": {
  "kernelspec": {
   "display_name": "Python 3",
   "language": "python",
   "name": "python3"
  },
  "language_info": {
   "codemirror_mode": {
    "name": "ipython",
    "version": 3
   },
   "file_extension": ".py",
   "mimetype": "text/x-python",
   "name": "python",
   "nbconvert_exporter": "python",
   "pygments_lexer": "ipython3",
   "version": "3.7.1"
  }
 },
 "nbformat": 4,
 "nbformat_minor": 2
}
