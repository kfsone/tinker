{
 "metadata": {
  "language_info": {
   "codemirror_mode": {
    "name": "ipython",
    "version": 3
   },
   "file_extension": ".py",
   "mimetype": "text/x-python",
   "name": "python",
   "nbconvert_exporter": "python",
   "pygments_lexer": "ipython3",
   "version": 3
  },
  "orig_nbformat": 2,
  "kernelspec": {
   "name": "python_defaultSpec_1595969267508",
   "display_name": "Python 3.7.5 64-bit"
  }
 },
 "nbformat": 4,
 "nbformat_minor": 2,
 "cells": [
  {
   "cell_type": "code",
   "execution_count": 1,
   "metadata": {},
   "outputs": [],
   "source": [
    "class C:\n",
    "    \"\"\"A class to demonstrate overhead of invoking methods.\"\"\"\n",
    "    def m1(self, a: str, b: str) -> str:\n",
    "        \"\"\"The simplest case, just join the strings.\"\"\"\n",
    "        return a + ' ' + b\n",
    "\n",
    "    def m2(self, a: str, b: str) -> str:\n",
    "        \"\"\"The overhead of invoking such a simple method.\"\"\"\n",
    "        return c.m1(a, b)\n",
    "\n",
    "    def m3(self) -> str:\n",
    "        \"\"\"Eliminate the argument forwarding.\"\"\"\n",
    "        return c.m1('hello', 'world')\n",
    "\n",
    "    def m4(self, a: str, b: str) -> str:\n",
    "        \"\"\"Add a second function call to emphasize the function invocation overhead.\"\"\"\n",
    "        return c.m2(b, a)\n",
    "\n",
    "\"\"\"Non-method versions of the same.\"\"\"\n",
    "def f1(a: str, b: str) -> str:\n",
    "    return a + ' ' + b\n",
    "\n",
    "def f2(a: str, b: str) -> str:\n",
    "    return f1(a, b)\n",
    "\n",
    "def f3() -> str:\n",
    "    return f1('hello', 'world')\n",
    "    \n",
    "def f4(a: str, b: str) -> str:\n",
    "    return f2(b, a)"
   ]
  },
  {
   "cell_type": "code",
   "execution_count": 2,
   "metadata": {
    "tags": []
   },
   "outputs": [
    {
     "output_type": "stream",
     "name": "stdout",
     "text": "Benchmarking, Please Wait...\n155 ns ± 12.3 ns per loop (mean ± std. dev. of 21 runs, 10000000 loops each)\n219 ns ± 7.55 ns per loop (mean ± std. dev. of 21 runs, 10000000 loops each)\n211 ns ± 10.9 ns per loop (mean ± std. dev. of 21 runs, 10000000 loops each)\n324 ns ± 6.06 ns per loop (mean ± std. dev. of 21 runs, 10000000 loops each)\n"
    }
   ],
   "source": [
    "# Instantiate an instance of C and benchmark our methods.\n",
    "c = C()\n",
    "\n",
    "# This may take upto a minute to start producing output.\n",
    "print(\"Benchmarking, Please Wait...\")\n",
    "%timeit -r 21 -n 10000000 c.m1('hello', 'world')\n",
    "%timeit -r 21 -n 10000000 c.m2('hello', 'world')\n",
    "%timeit -r 21 -n 10000000 c.m3()\n",
    "%timeit -r 21 -n 10000000 c.m4('world', 'hello')"
   ]
  },
  {
   "cell_type": "code",
   "execution_count": 3,
   "metadata": {
    "tags": []
   },
   "outputs": [
    {
     "output_type": "stream",
     "name": "stdout",
     "text": "Benchmarking, Please Wait...\n142 ns ± 12.4 ns per loop (mean ± std. dev. of 21 runs, 10000000 loops each)\n195 ns ± 9.3 ns per loop (mean ± std. dev. of 21 runs, 10000000 loops each)\n184 ns ± 7.02 ns per loop (mean ± std. dev. of 21 runs, 10000000 loops each)\n265 ns ± 9.59 ns per loop (mean ± std. dev. of 21 runs, 10000000 loops each)\n"
    }
   ],
   "source": [
    "# Non-method, direct function all, versions of the same.\n",
    "print(\"Benchmarking, Please Wait...\")\n",
    "%timeit -r 21 -n 10000000 f1('hello', 'world')\n",
    "%timeit -r 21 -n 10000000 f2('hello', 'world')\n",
    "%timeit -r 21 -n 10000000 f3()\n",
    "%timeit -r 21 -n 10000000 f4('world', 'hello')"
   ]
  },
  {
   "cell_type": "code",
   "execution_count": 18,
   "metadata": {
    "tags": []
   },
   "outputs": [
    {
     "output_type": "stream",
     "name": "stdout",
     "text": "2 fn calls -> direct implementation 218.18%\nm1->f1 109.15%\nm2->f2 112.31%\nm3->f3 114.67%\nm4->f4 122.26%\n"
    }
   ],
   "source": [
    "### Punch in the timings from above.\n",
    "# Measure the overhead of the m4/f4 which uses 2 function calls to add the strings.\n",
    "print(f\"2 fn calls -> direct implementation {float(312) * 100 / 143:6.2f}%\")\n",
    "\n",
    "# Measure the overhead of calling a class-method vs a simple function.\n",
    "print(f\"m1->f1 {float(155) * 100 / 142:6.2f}%\")\n",
    "print(f\"m2->f2 {float(219) * 100 / 195:6.2f}%\")\n",
    "print(f\"m3->f3 {float(211) * 100 / 184:6.2f}%\")\n",
    "print(f\"m4->f4 {float(324) * 100 / 265:6.2f}%\")"
   ]
  },
  {
   "cell_type": "code",
   "execution_count": 5,
   "metadata": {
    "tags": []
   },
   "outputs": [
    {
     "output_type": "stream",
     "name": "stdout",
     "text": "https://wiki.python.orgmoin/PythonSpeed/PerformanceTips\n"
    }
   ],
   "source": [
    "class Resource:\n",
    "  def __init__(self, protocol, host, path):\n",
    "    self._protocol = protocol\n",
    "    self._host = host\n",
    "    self._path = path\n",
    "    self._args = None\n",
    "\n",
    "  @property\n",
    "  def protocol(self): return self._protocol\n",
    "  @property\n",
    "  def host(self): return self._host\n",
    "  @property\n",
    "  def path(self): return self._path\n",
    "  @property\n",
    "  def args(self): return self._args or \"\"\n",
    "  @property\n",
    "  def prefix(self): return self.protocol + \"://\" + self.host\n",
    "\n",
    "  @property\n",
    "  def uri(self):\n",
    "    # Cache the uri when we do produce it.\n",
    "    return self.prefix + self.path + self.args\n",
    "\n",
    "  @property\n",
    "  def uri_test(self):\n",
    "    for i in range(24):\n",
    "      self.uri\n",
    "\n",
    "print(Resource(\"https\", \"wiki.python.org\", \"moin/PythonSpeed/PerformanceTips\").uri)"
   ]
  },
  {
   "cell_type": "code",
   "execution_count": 6,
   "metadata": {
    "tags": []
   },
   "outputs": [
    {
     "output_type": "stream",
     "name": "stdout",
     "text": "https://wiki.python.org/moin/PythonSpeed/PerformanceTips\n"
    }
   ],
   "source": [
    "class Versus:\n",
    "  def __init__(self, protocol, host, path):\n",
    "    self.protocol = protocol\n",
    "    self.host = host\n",
    "    self.path = path\n",
    "    self.args = None\n",
    "\n",
    "  def prefix(self):\n",
    "    return self.protocol + \"://\" + self.host\n",
    "\n",
    "  def uri(self):\n",
    "    return self.protocol + \"://\" + self.host + \"/\" + self.path + (self.args or \"\")\n",
    "\n",
    "  def uri_test(self):\n",
    "    for i in range(24):\n",
    "      self.uri()\n",
    "\n",
    "print(Versus(\"https\", \"wiki.python.org\", \"moin/PythonSpeed/PerformanceTips\").uri())"
   ]
  },
  {
   "cell_type": "code",
   "execution_count": 7,
   "metadata": {
    "tags": []
   },
   "outputs": [
    {
     "output_type": "stream",
     "name": "stdout",
     "text": "15.9 µs ± 985 ns per loop (mean ± std. dev. of 21 runs, 100000 loops each)\n7.82 µs ± 371 ns per loop (mean ± std. dev. of 21 runs, 100000 loops each)\n"
    }
   ],
   "source": [
    "%timeit -r 21 Resource(\"https\", \"wiki.python.org\", \"moin/PythonSpeed/PerformanceTips\").uri_test\n",
    "%timeit -r 21 Versus(\"https\", \"wiki.python.org\", \"moin/PythonSpeed/PerformanceTips\").uri_test()"
   ]
  },
  {
   "cell_type": "code",
   "execution_count": 8,
   "metadata": {
    "tags": []
   },
   "outputs": [
    {
     "output_type": "stream",
     "name": "stdout",
     "text": "4.52 µs ± 259 ns per loop (mean ± std. dev. of 25 runs, 100000 loops each)\n"
    }
   ],
   "source": [
    "def simple_vars(protocol, host, path, args):\n",
    "    for i in range(24):\n",
    "        s = protocol + \"://\" + host + \"/\" + path + (args or '')\n",
    "\n",
    "%timeit -r 25 simple_vars(\"https\", \"wiki.python.org\", \"moin/PythonSpeed/PerformanceTips\", None)"
   ]
  },
  {
   "cell_type": "code",
   "execution_count": 9,
   "metadata": {
    "tags": []
   },
   "outputs": [
    {
     "output_type": "stream",
     "name": "stdout",
     "text": "5.29 µs ± 319 ns per loop (mean ± std. dev. of 25 runs, 100000 loops each)\n"
    }
   ],
   "source": [
    "def f_in_simple_vars(protocol, host, path, args):\n",
    "    for i in range(24):\n",
    "        s = f\"{protocol}://{host}/{path}{args or None}\"\n",
    "   \n",
    "%timeit -r 25 f_in_simple_vars('https', 'wiki.python.org', 'moin/PythonSpeed/PerformanceTips', None)"
   ]
  },
  {
   "cell_type": "code",
   "execution_count": 10,
   "metadata": {
    "tags": []
   },
   "outputs": [
    {
     "output_type": "stream",
     "name": "stdout",
     "text": "9.53 ms ± 270 µs per loop (mean ± std. dev. of 7 runs, 100 loops each)\n3.95 ms ± 482 µs per loop (mean ± std. dev. of 7 runs, 100 loops each)\n"
    }
   ],
   "source": [
    "numbers = [i for i in range(100000)]\n",
    "\n",
    "def increment(a: int, b: int) -> int:\n",
    "    return a + b\n",
    "\n",
    "def i1(numbers) -> int:\n",
    "    result = 0\n",
    "    for i in numbers:\n",
    "        result = increment(result, i)\n",
    "    return result\n",
    "\n",
    "def i2(numbers) -> int:\n",
    "    result = 0\n",
    "    for i in numbers:\n",
    "        result = result + i\n",
    "    return result\n",
    "\n",
    "%timeit i1(numbers)\n",
    "%timeit i2(numbers)"
   ]
  },
  {
   "cell_type": "code",
   "execution_count": 11,
   "metadata": {
    "tags": []
   },
   "outputs": [
    {
     "output_type": "stream",
     "name": "stdout",
     "text": "4           0 LOAD_FAST                1 (a)\n              2 LOAD_FAST                0 (self)\n              4 LOAD_ATTR                0 (join_char)\n              6 BINARY_ADD\n              8 LOAD_FAST                0 (self)\n             10 STORE_ATTR               1 (result)\n\n  5          12 LOAD_FAST                0 (self)\n             14 DUP_TOP\n             16 LOAD_ATTR                1 (result)\n             18 LOAD_FAST                2 (b)\n             20 LOAD_FAST                0 (self)\n             22 LOAD_ATTR                0 (join_char)\n             24 BINARY_ADD\n             26 INPLACE_ADD\n             28 ROT_TWO\n             30 STORE_ATTR               1 (result)\n\n  6          32 LOAD_FAST                0 (self)\n             34 DUP_TOP\n             36 LOAD_ATTR                1 (result)\n             38 LOAD_FAST                3 (c)\n             40 LOAD_FAST                0 (self)\n             42 LOAD_ATTR                0 (join_char)\n             44 BINARY_ADD\n             46 INPLACE_ADD\n             48 ROT_TWO\n             50 STORE_ATTR               1 (result)\n             52 LOAD_CONST               0 (None)\n             54 RETURN_VALUE\n"
    }
   ],
   "source": [
    "class Joiner:\n",
    "    join_char = ','\n",
    "    def put_together(self, a, b, c):\n",
    "        self.result = a + self.join_char\n",
    "        self.result += b + self.join_char\n",
    "        self.result += c + self.join_char\n",
    "\n",
    "import dis ; dis.dis(Joiner.put_together)"
   ]
  },
  {
   "cell_type": "code",
   "execution_count": 12,
   "metadata": {
    "tags": []
   },
   "outputs": [
    {
     "output_type": "stream",
     "name": "stdout",
     "text": "2           0 SETUP_LOOP              32 (to 34)\n              2 LOAD_FAST                0 (things)\n              4 GET_ITER\n        >>    6 FOR_ITER                24 (to 32)\n              8 STORE_FAST               2 (thing)\n\n  3          10 LOAD_FAST                1 (into)\n             12 DUP_TOP\n             14 LOAD_ATTR                0 (things)\n             16 LOAD_FAST                2 (thing)\n             18 LOAD_FAST                1 (into)\n             20 LOAD_ATTR                1 (separator)\n             22 BINARY_ADD\n             24 INPLACE_ADD\n             26 ROT_TWO\n             28 STORE_ATTR               0 (things)\n             30 JUMP_ABSOLUTE            6\n        >>   32 POP_BLOCK\n        >>   34 LOAD_CONST               0 (None)\n             36 RETURN_VALUE\n"
    }
   ],
   "source": [
    "def join_these_things_v1(things, into):\n",
    "    for thing in things:\n",
    "      into.things += thing + into.separator\n",
    "\n",
    "import dis\n",
    "dis.dis(join_these_things_v1)"
   ]
  },
  {
   "cell_type": "code",
   "execution_count": 13,
   "metadata": {
    "tags": []
   },
   "outputs": [
    {
     "output_type": "stream",
     "name": "stdout",
     "text": "2           0 LOAD_DEREF               0 (into)\n              2 LOAD_ATTR                0 (things)\n              4 LOAD_METHOD              1 (extend)\n              6 LOAD_CLOSURE             0 (into)\n              8 BUILD_TUPLE              1\n             10 LOAD_CONST               1 (<code object <genexpr> at 0x00000259DD98BE40, file \"<ipython-input-13-eed2b012bb4d>\", line 2>)\n             12 LOAD_CONST               2 ('join_these_things_v2.<locals>.<genexpr>')\n             14 MAKE_FUNCTION            8\n             16 LOAD_FAST                0 (things)\n             18 GET_ITER\n             20 CALL_FUNCTION            1\n             22 CALL_METHOD              1\n             24 POP_TOP\n             26 LOAD_CONST               0 (None)\n             28 RETURN_VALUE\n\nDisassembly of <code object <genexpr> at 0x00000259DD98BE40, file \"<ipython-input-13-eed2b012bb4d>\", line 2>:\n  2           0 LOAD_FAST                0 (.0)\n        >>    2 FOR_ITER                16 (to 20)\n              4 STORE_FAST               1 (thing)\n              6 LOAD_FAST                1 (thing)\n              8 LOAD_DEREF               0 (into)\n             10 LOAD_ATTR                0 (separator)\n             12 BINARY_ADD\n             14 YIELD_VALUE\n             16 POP_TOP\n             18 JUMP_ABSOLUTE            2\n        >>   20 LOAD_CONST               0 (None)\n             22 RETURN_VALUE\n"
    }
   ],
   "source": [
    "def join_these_things_v2(things, into):\n",
    "    into.things.extend(thing + into.separator for thing in things)\n",
    "\n",
    "import dis\n",
    "dis.dis(join_these_things_v2)"
   ]
  },
  {
   "cell_type": "code",
   "execution_count": 14,
   "metadata": {
    "tags": []
   },
   "outputs": [
    {
     "output_type": "stream",
     "name": "stdout",
     "text": "496 µs ± 47.4 µs per loop (mean ± std. dev. of 7 runs, 1000 loops each)\n203 µs ± 8.17 µs per loop (mean ± std. dev. of 7 runs, 10000 loops each)\n"
    }
   ],
   "source": [
    "class Test:\n",
    "    things = []\n",
    "    separator = \",\"\n",
    "\n",
    "things = [str(i) for i in range(2000)]\n",
    "\n",
    "%timeit join_these_things_v1(things, Test())\n",
    "%timeit join_these_things_v2(things, Test())"
   ]
  },
  {
   "cell_type": "code",
   "execution_count": 22,
   "metadata": {
    "tags": []
   },
   "outputs": [
    {
     "output_type": "stream",
     "name": "stdout",
     "text": "2.72 ms ± 34 µs per loop (mean ± std. dev. of 7 runs, 100 loops each)\n1.86 ms ± 91 µs per loop (mean ± std. dev. of 7 runs, 1000 loops each)\n"
    }
   ],
   "source": [
    "def non_agg_total_percentage(a, b):\n",
    "    return a * 100 / b\n",
    "\n",
    "def non_agg_invoker(values):\n",
    "    total = 0\n",
    "    for a, b in values:\n",
    "        total += non_agg_total_percentage(a, b)\n",
    "    return total / len(values)\n",
    "\n",
    "def agg_total_percentage(values):\n",
    "    return sum((a * 100 / b) for a, b in values)\n",
    "\n",
    "def agg_invoker(values):\n",
    "    return agg_total_percentage(values) / len(values)\n",
    "\n",
    "values = [(a, b) for a, b in zip(range(30000, 90000, 3), range(20000, 140000, 6))]\n",
    "%timeit non_agg_invoker(values)\n",
    "%timeit agg_invoker(values)"
   ]
  },
  {
   "cell_type": "code",
   "execution_count": 16,
   "metadata": {
    "tags": []
   },
   "outputs": [
    {
     "output_type": "stream",
     "name": "stdout",
     "text": "552 µs ± 15.3 µs per loop (mean ± std. dev. of 7 runs, 1000 loops each)\n422 µs ± 7.77 µs per loop (mean ± std. dev. of 7 runs, 1000 loops each)\n"
    }
   ],
   "source": [
    "def f1(values):\n",
    "    for i in range(10000):\n",
    "        values.append(i)\n",
    "\n",
    "def f2(values):\n",
    "    append = values.append\n",
    "    for i in range(10000):\n",
    "        append(i)\n",
    "\n",
    "%timeit f1([])\n",
    "%timeit f2([])"
   ]
  },
  {
   "cell_type": "code",
   "execution_count": 17,
   "metadata": {
    "tags": []
   },
   "outputs": [
    {
     "output_type": "stream",
     "name": "stdout",
     "text": "1.05 s ± 14 ms per loop (mean ± std. dev. of 7 runs, 1 loop each)\n789 ms ± 6.96 ms per loop (mean ± std. dev. of 7 runs, 1 loop each)\n773 ms ± 11.8 ms per loop (mean ± std. dev. of 7 runs, 1 loop each)\n783 ms ± 5.58 ms per loop (mean ± std. dev. of 7 runs, 1 loop each)\n"
    }
   ],
   "source": [
    "import re\n",
    "creditsPattern = r\"^.*? ([+-]?\\d+) [Cc][Rr]\"\n",
    "creditsRe = re.compile(creditsPattern)\n",
    "str1 = \"Lorem ipsum, unfortunately I don't match. +123 Coins\"\n",
    "str2 = \"Well +123 Charlie, I do match because I have -321 cRs.\"\n",
    "\n",
    "def s1():\n",
    "    for i in range(300000):\n",
    "        m = re.match(creditsPattern, str1)\n",
    "        m = re.match(creditsPattern, str2)\n",
    "\n",
    "def s2():\n",
    "    for i in range(300000):\n",
    "        m = creditsRe.match(str1)\n",
    "        m = creditsRe.match(str2)\n",
    "\n",
    "def s3():\n",
    "    creditsMatch = creditsRe.match\n",
    "    for i in range(300000):\n",
    "        m = creditsMatch(str1)\n",
    "        m = creditsMatch(str2)\n",
    "\n",
    "creditsReMatch = creditsRe.match\n",
    "def s4():\n",
    "    for i in range(300000):\n",
    "        m = creditsReMatch(str1)\n",
    "        m = creditsReMatch(str2)\n",
    "\n",
    "%timeit s1()\n",
    "%timeit s2()\n",
    "%timeit s3()\n",
    "%timeit s4()"
   ]
  },
  {
   "cell_type": "code",
   "execution_count": null,
   "metadata": {},
   "outputs": [],
   "source": []
  }
 ]
}