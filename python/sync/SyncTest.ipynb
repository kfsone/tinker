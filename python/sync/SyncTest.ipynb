{
 "cells": [
  {
   "cell_type": "code",
   "execution_count": 1,
   "metadata": {},
   "outputs": [],
   "source": [
    "%load_ext autoreload\n",
    "%autoreload 2"
   ]
  },
  {
   "cell_type": "code",
   "execution_count": 2,
   "metadata": {},
   "outputs": [],
   "source": [
    "from sync import *\n",
    "from entities import *\n",
    "import entities\n",
    "from inventories import *\n",
    "from sftpsession import *\n",
    "import os\n",
    "import pickle\n",
    "load = lambda filename: pickle.load(open(filename+\".pickle\", \"rb\"))"
   ]
  },
  {
   "cell_type": "code",
   "execution_count": 3,
   "metadata": {},
   "outputs": [],
   "source": [
    "import logging\n",
    "logger = logging.getLogger()\n",
    "logger.setLevel(logging.DEBUG)"
   ]
  },
  {
   "cell_type": "code",
   "execution_count": 4,
   "metadata": {},
   "outputs": [
    {
     "name": "stdout",
     "output_type": "stream",
     "text": [
      "(168383, 167784)\n"
     ]
    }
   ],
   "source": [
    "r, l = load(\"remote\"), load(\"local\")\n",
    "print(len(r), len(l))"
   ]
  },
  {
   "cell_type": "code",
   "execution_count": 43,
   "metadata": {},
   "outputs": [
    {
     "data": {
      "text/plain": [
       "(168343, 251262)"
      ]
     },
     "execution_count": 43,
     "metadata": {},
     "output_type": "execute_result"
    }
   ],
   "source": [
    "rf, lf = set(r.iterkeys()), set(l.iterkeys())\n",
    "len(r), len(l)"
   ]
  },
  {
   "cell_type": "code",
   "execution_count": 56,
   "metadata": {},
   "outputs": [],
   "source": [
    "added, deleted, modified = get_changes(r, rf, l, lf)"
   ]
  },
  {
   "cell_type": "code",
   "execution_count": 66,
   "metadata": {},
   "outputs": [
    {
     "name": "stderr",
     "output_type": "stream",
     "text": [
      "DEBUG:sync:Don't need to move: set(['foo/bar/baz/f1'])\n",
      "NOTE:sync:WhatIf: renames(args=('C:/temp\\\\foo/fubar.txt', 'C:/temp\\\\.SyncTrash\\\\foo/fubar.txt'), kwargs=None)\n",
      "NOTE:sync:WhatIf: renames(args=('C:/temp\\\\foo/bar/baz', 'C:/temp\\\\.SyncTrash\\\\foo/bar/baz'), kwargs=None)\n",
      "INFO:sync:2 trash operations.\n"
     ]
    }
   ],
   "source": [
    "trash_deletions('C:/temp', {'foo/bar/baz', 'foo/bar/baz/f1', 'foo/fubar.txt'}, {'foo/bar/baz', 'foo/bar/baz/f1', 'foo'}, dry_run=True)"
   ]
  },
  {
   "cell_type": "code",
   "execution_count": 73,
   "metadata": {},
   "outputs": [
    {
     "name": "stderr",
     "output_type": "stream",
     "text": [
      "INFO:root:Creating O:/Backups/SEM/svn\\.SyncTrash for 83556 deletions\n",
      "IOPub data rate exceeded.\n",
      "The notebook server will temporarily stop sending output\n",
      "to the client in order to avoid crashing it.\n",
      "To change this limit, set the config variable\n",
      "`--NotebookApp.iopub_data_rate_limit`.\n",
      "\n",
      "Current values:\n",
      "NotebookApp.iopub_data_rate_limit=1000000.0 (bytes/sec)\n",
      "NotebookApp.rate_limit_window=3.0 (secs)\n",
      "\n",
      "INFO:sync:83556 items moved to O:/Backups/SEM/svn\\.SyncTrash.\n"
     ]
    }
   ],
   "source": [
    "trash_deletions('O:/Backups/SEM/svn', deleted[0], deleted[1], dry_run=False)"
   ]
  },
  {
   "cell_type": "code",
   "execution_count": 99,
   "metadata": {},
   "outputs": [
    {
     "name": "stderr",
     "output_type": "stream",
     "text": [
      "INFO:sync:Created 1 new folders\n"
     ]
    }
   ],
   "source": [
    "added_items = added[0]\n",
    "create_folders('O:/Backups/SEM/svn', added_items, r, False)"
   ]
  },
  {
   "cell_type": "code",
   "execution_count": 125,
   "metadata": {},
   "outputs": [],
   "source": [
    "r.content[\"test.f\"] = entities.FileEntity(\"test.f\", \".\", os.stat('C:/windows/notepad.exe'))"
   ]
  },
  {
   "cell_type": "code",
   "execution_count": 126,
   "metadata": {},
   "outputs": [
    {
     "data": {
      "text/plain": [
       "<FileEntity(test.f)>"
      ]
     },
     "execution_count": 126,
     "metadata": {},
     "output_type": "execute_result"
    }
   ],
   "source": [
    "r[\"test.f\"]"
   ]
  },
  {
   "cell_type": "code",
   "execution_count": 111,
   "metadata": {},
   "outputs": [
    {
     "name": "stderr",
     "output_type": "stream",
     "text": [
      "DEBUG:sync:Allocated C:\\Temp\\test.f (size 0, mtime 1537224092)\n"
     ]
    }
   ],
   "source": [
    "create_zero_files(\"C:/Temp\", [entities.FileEntity(\"test.f\", \".\", os.stat(\"C:/temp\"))], dry_run=False)"
   ]
  },
  {
   "cell_type": "code",
   "execution_count": 128,
   "metadata": {},
   "outputs": [
    {
     "name": "stderr",
     "output_type": "stream",
     "text": [
      "INFO:sync:Downloading 1 files:\n",
      "INFO:sync:WhatIf: Download C:\\Temp\\test.f, 254464 bytes\n",
      "INFO:sync:Downloaded 254464 bytes in 1 files\n"
     ]
    }
   ],
   "source": [
    "download_files(\"foo\", \"x\", \"y\", \"/\", r, \"C:/Temp\", [\"test.f\"], dry_run=True)"
   ]
  },
  {
   "cell_type": "code",
   "execution_count": 127,
   "metadata": {},
   "outputs": [
    {
     "data": {
      "text/plain": [
       "['test.f']"
      ]
     },
     "execution_count": 127,
     "metadata": {},
     "output_type": "execute_result"
    }
   ],
   "source": [
    "[f for f in r.keys() if '.f' in f]"
   ]
  },
  {
   "cell_type": "code",
   "execution_count": null,
   "metadata": {},
   "outputs": [],
   "source": [
    "del s"
   ]
  },
  {
   "cell_type": "code",
   "execution_count": 3,
   "metadata": {},
   "outputs": [],
   "source": [
    "s = SSHSession(\"dogfish.lan\", \"oliver\", \"df(V3r1l05t)\")"
   ]
  },
  {
   "cell_type": "code",
   "execution_count": 5,
   "metadata": {},
   "outputs": [],
   "source": [
    "rc, out = s.execute(\"cat\", inputs=\"Rainy day.\\nHello world\\n\\n\", read_stdout=True, timeout=10)"
   ]
  },
  {
   "cell_type": "code",
   "execution_count": 7,
   "metadata": {},
   "outputs": [
    {
     "data": {
      "text/plain": [
       "'Rainy day.\\nHello world\\n\\n'"
      ]
     },
     "execution_count": 7,
     "metadata": {},
     "output_type": "execute_result"
    }
   ],
   "source": [
    "out"
   ]
  },
  {
   "cell_type": "code",
   "execution_count": 13,
   "metadata": {},
   "outputs": [
    {
     "data": {
      "text/plain": [
       "<paramiko.Channel 0 (closed) -> <paramiko.Transport at 0x631df98L (cipher aes128-ctr, 128 bits) (active; 0 open channel(s))>>"
      ]
     },
     "execution_count": 13,
     "metadata": {},
     "output_type": "execute_result"
    }
   ],
   "source": [
    "stdout.channel"
   ]
  },
  {
   "cell_type": "code",
   "execution_count": 15,
   "metadata": {},
   "outputs": [
    {
     "data": {
      "text/plain": [
       "True"
      ]
     },
     "execution_count": 15,
     "metadata": {},
     "output_type": "execute_result"
    },
    {
     "name": "stderr",
     "output_type": "stream",
     "text": [
      "ERROR:paramiko.transport:Socket exception: An existing connection was forcibly closed by the remote host (10054)\n"
     ]
    }
   ],
   "source": [
    "stdout.channel.exit_status_ready()"
   ]
  },
  {
   "cell_type": "code",
   "execution_count": 18,
   "metadata": {},
   "outputs": [
    {
     "ename": "TypeError",
     "evalue": "__init__() takes exactly 4 arguments (3 given)",
     "output_type": "error",
     "traceback": [
      "\u001b[1;31m---------------------------------------------------------------------------\u001b[0m",
      "\u001b[1;31mTypeError\u001b[0m                                 Traceback (most recent call last)",
      "\u001b[1;32m<ipython-input-18-4ea7db0f7d30>\u001b[0m in \u001b[0;36m<module>\u001b[1;34m()\u001b[0m\n\u001b[1;32m----> 1\u001b[1;33m \u001b[0mf\u001b[0m \u001b[1;33m=\u001b[0m \u001b[0mFileEntity\u001b[0m\u001b[1;33m(\u001b[0m\u001b[1;34m\"RobotDeployer_0.0.3.zip\"\u001b[0m\u001b[1;33m,\u001b[0m \u001b[0mDirectoryEntity\u001b[0m\u001b[1;33m(\u001b[0m\u001b[1;34m\"mods\"\u001b[0m\u001b[1;33m,\u001b[0m \u001b[0mDirectoryEntity\u001b[0m\u001b[1;33m(\u001b[0m\u001b[1;34m\".\"\u001b[0m\u001b[1;33m,\u001b[0m \u001b[0mNone\u001b[0m\u001b[1;33m)\u001b[0m\u001b[1;33m)\u001b[0m\u001b[1;33m,\u001b[0m \u001b[1;36m123\u001b[0m\u001b[1;33m,\u001b[0m \u001b[1;36m123\u001b[0m\u001b[1;33m)\u001b[0m\u001b[1;33m\u001b[0m\u001b[0m\n\u001b[0m",
      "\u001b[1;31mTypeError\u001b[0m: __init__() takes exactly 4 arguments (3 given)"
     ]
    }
   ],
   "source": [
    "f = FileEntity(\"RobotDeployer_0.0.3.zip\", DirectoryEntity(\"mods\", DirectoryEntity(\".\", None)), 123, 123)"
   ]
  },
  {
   "cell_type": "code",
   "execution_count": 4,
   "metadata": {},
   "outputs": [],
   "source": [
    "d = DirectoryEntity(\"mods\", None, None)\n",
    "fn = \"RobotDeployer_0.0.3.zip\"\n",
    "f = FileEntity(fn, d, os.stat(\"c:/users/oliver/appdata/roaming/factorio/mods/\"+fn))\n",
    "remote_inv = { \"mods\": d, \"mods/\"+fn: f }"
   ]
  },
  {
   "cell_type": "code",
   "execution_count": 10,
   "metadata": {},
   "outputs": [
    {
     "name": "stderr",
     "output_type": "stream",
     "text": [
      "DEBUG:sync:SSHClient: Connecting to dogfish with oliver and password\n",
      "DEBUG:paramiko.transport:starting thread (client mode): 0x6b9d438L\n",
      "DEBUG:paramiko.transport:Local version/idstring: SSH-2.0-paramiko_2.4.1\n",
      "DEBUG:paramiko.transport:Remote version/idstring: SSH-2.0-OpenSSH_7.6p1 Ubuntu-4\n",
      "INFO:paramiko.transport:Connected (version 2.0, client OpenSSH_7.6p1)\n",
      "DEBUG:paramiko.transport:kex algos:[u'curve25519-sha256', u'curve25519-sha256@libssh.org', u'ecdh-sha2-nistp256', u'ecdh-sha2-nistp384', u'ecdh-sha2-nistp521', u'diffie-hellman-group-exchange-sha256', u'diffie-hellman-group16-sha512', u'diffie-hellman-group18-sha512', u'diffie-hellman-group14-sha256', u'diffie-hellman-group14-sha1'] server key:[u'ssh-rsa', u'rsa-sha2-512', u'rsa-sha2-256', u'ecdsa-sha2-nistp256', u'ssh-ed25519'] client encrypt:[u'chacha20-poly1305@openssh.com', u'aes128-ctr', u'aes192-ctr', u'aes256-ctr', u'aes128-gcm@openssh.com', u'aes256-gcm@openssh.com'] server encrypt:[u'chacha20-poly1305@openssh.com', u'aes128-ctr', u'aes192-ctr', u'aes256-ctr', u'aes128-gcm@openssh.com', u'aes256-gcm@openssh.com'] client mac:[u'umac-64-etm@openssh.com', u'umac-128-etm@openssh.com', u'hmac-sha2-256-etm@openssh.com', u'hmac-sha2-512-etm@openssh.com', u'hmac-sha1-etm@openssh.com', u'umac-64@openssh.com', u'umac-128@openssh.com', u'hmac-sha2-256', u'hmac-sha2-512', u'hmac-sha1'] server mac:[u'umac-64-etm@openssh.com', u'umac-128-etm@openssh.com', u'hmac-sha2-256-etm@openssh.com', u'hmac-sha2-512-etm@openssh.com', u'hmac-sha1-etm@openssh.com', u'umac-64@openssh.com', u'umac-128@openssh.com', u'hmac-sha2-256', u'hmac-sha2-512', u'hmac-sha1'] client compress:[u'none', u'zlib@openssh.com'] server compress:[u'none', u'zlib@openssh.com'] client lang:[u''] server lang:[u''] kex follows?False\n",
      "DEBUG:paramiko.transport:Kex agreed: ecdh-sha2-nistp256\n",
      "DEBUG:paramiko.transport:HostKey agreed: ssh-ed25519\n",
      "DEBUG:paramiko.transport:Cipher agreed: aes128-ctr\n",
      "DEBUG:paramiko.transport:MAC agreed: hmac-sha2-256\n",
      "DEBUG:paramiko.transport:Compression agreed: none\n",
      "DEBUG:paramiko.transport:kex engine KexNistp256 specified hash_algo <built-in function openssl_sha256>\n",
      "DEBUG:paramiko.transport:Switch to new keys ...\n",
      "DEBUG:paramiko.transport:Adding ssh-ed25519 host key for dogfish: 5d2c223281ce88acaa2da5a6ff651b0b\n",
      "DEBUG:paramiko.transport:Trying SSH agent key c021d56c23743ee999bd1374919a9d66\n",
      "DEBUG:paramiko.transport:userauth is OK\n",
      "INFO:paramiko.transport:Authentication (publickey) failed.\n",
      "DEBUG:paramiko.transport:userauth is OK\n",
      "INFO:paramiko.transport:Authentication (password) successful!\n",
      "INFO:sync:Fetching 1 local checksums\n",
      "INFO:sync:Fetching 1 remote checksums\n",
      "DEBUG:sync:Waiting on worker threads\n",
      "DEBUG:sync:Local checksums retrieved\n",
      "DEBUG:sync:cd '/opt/factorio' && xargs -0 md5sum --binary\n",
      "DEBUG:paramiko.transport:[chan 0] Max packet in: 32768 bytes\n",
      "DEBUG:paramiko.transport:Received global request \"hostkeys-00@openssh.com\"\n",
      "DEBUG:paramiko.transport:Rejecting \"hostkeys-00@openssh.com\" global request from server.\n",
      "DEBUG:paramiko.transport:[chan 0] Max packet out: 32768 bytes\n",
      "DEBUG:paramiko.transport:Secsh channel 0 opened.\n",
      "DEBUG:paramiko.transport:[chan 0] Sesch channel 0 request ok\n",
      "DEBUG:paramiko.transport:[chan 0] EOF sent (0)\n",
      "DEBUG:paramiko.transport:[chan 0] EOF received (0)\n",
      "DEBUG:sync:Remote checksums retrieved\n",
      "DEBUG:sync:Shutting down SSH session\n",
      "DEBUG:paramiko.transport:EOF in transport thread\n",
      "INFO:sync:Remote hashes completed\n",
      "INFO:sync:Local hashes completed\n"
     ]
    },
    {
     "data": {
      "text/plain": [
       "set()"
      ]
     },
     "execution_count": 10,
     "metadata": {},
     "output_type": "execute_result"
    }
   ],
   "source": [
    "test_checksums(\"dogfish\", \"oliver\", \"df(V3r1l05t)\", \"/opt/factorio\", \"c:/users/oliver/appdata/roaming/factorio\", remote_inv, [\"mods/\"+fn])"
   ]
  },
  {
   "cell_type": "code",
   "execution_count": 34,
   "metadata": {},
   "outputs": [
    {
     "data": {
      "text/plain": [
       "<FileEntity(RobotDeployer_0.0.3.zip)>"
      ]
     },
     "execution_count": 34,
     "metadata": {},
     "output_type": "execute_result"
    }
   ],
   "source": [
    "f"
   ]
  },
  {
   "cell_type": "code",
   "execution_count": 35,
   "metadata": {},
   "outputs": [
    {
     "data": {
      "text/plain": [
       "['__class__',\n",
       " '__delattr__',\n",
       " '__dict__',\n",
       " '__doc__',\n",
       " '__format__',\n",
       " '__getattribute__',\n",
       " '__hash__',\n",
       " '__init__',\n",
       " '__module__',\n",
       " '__new__',\n",
       " '__reduce__',\n",
       " '__reduce_ex__',\n",
       " '__repr__',\n",
       " '__setattr__',\n",
       " '__sizeof__',\n",
       " '__str__',\n",
       " '__subclasshook__',\n",
       " '__weakref__',\n",
       " 'differs',\n",
       " 'md5sum',\n",
       " 'mtime',\n",
       " 'name',\n",
       " 'parent',\n",
       " 'size']"
      ]
     },
     "execution_count": 35,
     "metadata": {},
     "output_type": "execute_result"
    }
   ],
   "source": [
    "dir(f)"
   ]
  },
  {
   "cell_type": "code",
   "execution_count": 36,
   "metadata": {},
   "outputs": [
    {
     "data": {
      "text/plain": [
       "'91e2c7399b9ea1e28fa89d7b233bf404'"
      ]
     },
     "execution_count": 36,
     "metadata": {},
     "output_type": "execute_result"
    }
   ],
   "source": [
    "f.md5sum"
   ]
  },
  {
   "cell_type": "code",
   "execution_count": null,
   "metadata": {},
   "outputs": [],
   "source": []
  }
 ],
 "metadata": {
  "kernelspec": {
   "display_name": "Python 2",
   "language": "python",
   "name": "python2"
  },
  "language_info": {
   "codemirror_mode": {
    "name": "ipython",
    "version": 2
   },
   "file_extension": ".py",
   "mimetype": "text/x-python",
   "name": "python",
   "nbconvert_exporter": "python",
   "pygments_lexer": "ipython2",
   "version": "2.7.14"
  }
 },
 "nbformat": 4,
 "nbformat_minor": 2
}
